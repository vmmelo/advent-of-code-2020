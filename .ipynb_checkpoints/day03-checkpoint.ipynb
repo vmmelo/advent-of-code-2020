{
 "cells": [
  {
   "cell_type": "code",
   "execution_count": 7,
   "metadata": {},
   "outputs": [
    {
     "name": "stdout",
     "output_type": "stream",
     "text": [
      "The answer for d3p1 is: 262\n",
      "The answer for d3p2 is: 2698900776\n"
     ]
    }
   ],
   "source": [
    "d3input = open(\"./inputs/day3.txt\", \"r\")\n",
    "rows = d3input.read().split('\\n')\n",
    "def count_trees(rows, stepsRight=1, stepsDown=1 ):\n",
    "    treesCounter = 0\n",
    "    columns = len(rows[0])\n",
    "    j = 0\n",
    "    for i in range(0, len(rows), stepsDown):\n",
    "        if(rows[i][(j % columns)] == '#'):\n",
    "            treesCounter += 1\n",
    "        j += stepsRight\n",
    "    return treesCounter\n",
    "print(\"The answer for d3p1 is:\", count_trees(rows, 3))\n",
    "\n",
    "def multiply_slopes_results(rows):\n",
    "    result = 1\n",
    "    result *= count_trees(rows)\n",
    "    result *= count_trees(rows, 3, 1)\n",
    "    result *= count_trees(rows, 5, 1)\n",
    "    result *= count_trees(rows, 7, 1)\n",
    "    result *= count_trees(rows, 1, 2)\n",
    "    return result\n",
    "print(\"The answer for d3p2 is:\", multiply_slopes_results(rows))\n"
   ]
  }
 ],
 "metadata": {
  "kernelspec": {
   "display_name": "Python 3",
   "language": "python",
   "name": "python3"
  },
  "language_info": {
   "codemirror_mode": {
    "name": "ipython",
    "version": 3
   },
   "file_extension": ".py",
   "mimetype": "text/x-python",
   "name": "python",
   "nbconvert_exporter": "python",
   "pygments_lexer": "ipython3",
   "version": "3.8.5"
  }
 },
 "nbformat": 4,
 "nbformat_minor": 4
}
