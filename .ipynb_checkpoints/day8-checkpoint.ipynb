{
 "cells": [
  {
   "cell_type": "code",
   "execution_count": 4,
   "metadata": {},
   "outputs": [
    {
     "name": "stdout",
     "output_type": "stream",
     "text": [
      "The answer for d8p1 is:\n"
     ]
    }
   ],
   "source": [
    "d8input = open(\"./inputs/day8.txt\", \"r\")\n",
    "groups = d8input.read().split('\\n\\n')\n",
    "\n",
    "print(\"The answer for d8p1 is:\")"
   ]
  },
  {
   "cell_type": "code",
   "execution_count": 5,
   "metadata": {},
   "outputs": [
    {
     "name": "stdout",
     "output_type": "stream",
     "text": [
      "The answer for d8p2 is:\n"
     ]
    }
   ],
   "source": [
    "\n",
    "print(\"The answer for d8p2 is:\")"
   ]
  }
 ],
 "metadata": {
  "kernelspec": {
   "display_name": "Python 3",
   "language": "python",
   "name": "python3"
  },
  "language_info": {
   "codemirror_mode": {
    "name": "ipython",
    "version": 3
   },
   "file_extension": ".py",
   "mimetype": "text/x-python",
   "name": "python",
   "nbconvert_exporter": "python",
   "pygments_lexer": "ipython3",
   "version": "3.8.5"
  }
 },
 "nbformat": 4,
 "nbformat_minor": 4
}
