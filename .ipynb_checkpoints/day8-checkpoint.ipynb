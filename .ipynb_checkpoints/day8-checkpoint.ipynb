{
 "cells": [
  {
   "cell_type": "code",
   "execution_count": 1,
   "metadata": {},
   "outputs": [
    {
     "name": "stdout",
     "output_type": "stream",
     "text": [
      "The answer for d8p1 is: 1528\n"
     ]
    }
   ],
   "source": [
    "import re\n",
    "d8input = open(\"./inputs/day8.txt\", \"r\")\n",
    "instructions = d8input.readlines()\n",
    "def get_accumulator(instructions):\n",
    "    index = 0\n",
    "    accumulator = 0\n",
    "    queue = []\n",
    "    while index < len(instructions):\n",
    "        if(index in queue):\n",
    "            break\n",
    "        queue.append(index)\n",
    "        op = re.search('[a-z]{3}', instructions[index]).group(0)\n",
    "        parameter = re.search('[\\+|\\-](\\d)*', instructions[index]).group(0)\n",
    "        if(op == 'nop'):\n",
    "            index += 1\n",
    "            continue\n",
    "        if(op == 'acc'):\n",
    "            accumulator += int(parameter)\n",
    "            index += 1\n",
    "            continue\n",
    "        if(op == 'jmp'):\n",
    "            index += int(parameter)\n",
    "            continue\n",
    "        index += 1\n",
    "        continue\n",
    "    return accumulator\n",
    "print(\"The answer for d8p1 is:\", get_accumulator(instructions))"
   ]
  },
  {
   "cell_type": "code",
   "execution_count": 2,
   "metadata": {},
   "outputs": [
    {
     "name": "stdout",
     "output_type": "stream",
     "text": [
      "The answer for d8p2 is: 640\n"
     ]
    }
   ],
   "source": [
    "d8input = open(\"./inputs/day8.txt\", \"r\")\n",
    "instructions = d8input.readlines()\n",
    "def get_accumulator2(instructions):\n",
    "    index = 0\n",
    "    accumulator = 0\n",
    "    queue = []\n",
    "    while True:\n",
    "        if(index in queue):\n",
    "            break\n",
    "        queue.append(index)\n",
    "        op = re.search('[a-z]{3}', instructions[index]).group(0)\n",
    "        parameter = re.search('[\\+|\\-](\\d)*', instructions[index]).group(0)\n",
    "        if(op == 'nop'):\n",
    "            index += 1\n",
    "            continue\n",
    "        if(op == 'acc'):\n",
    "            accumulator += int(parameter)\n",
    "            index += 1\n",
    "            continue\n",
    "        if(op == 'jmp'):\n",
    "            index += int(parameter)\n",
    "            continue\n",
    "        index += 1\n",
    "        continue\n",
    "        \n",
    "    for item in queue:\n",
    "        op = re.search('[a-z]{3}', instructions[item]).group(0)\n",
    "        parameter = re.search('[\\+|\\-](\\d)*', instructions[item]).group(0)\n",
    "        if op == 'nop':\n",
    "            instructions[item] = 'jmp ' + parameter\n",
    "        elif op == 'jmp':\n",
    "            instructions[item] = 'nop' + parameter\n",
    "        else:\n",
    "            continue\n",
    "\n",
    "        secondQueue = []\n",
    "        accumulator = 0\n",
    "        j = 0\n",
    "        while j < len(instructions):\n",
    "            if j in secondQueue:\n",
    "                break\n",
    "            secondQueue.append(j)\n",
    "            op = re.search('[a-z]{3}', instructions[j]).group(0)\n",
    "            parameter = re.search('[\\+|\\-](\\d)*', instructions[j]).group(0)\n",
    "\n",
    "            if op == 'nop':\n",
    "                j += 1\n",
    "            elif op == 'acc':\n",
    "                j += 1\n",
    "                accumulator += int(parameter)\n",
    "            elif op == 'jmp':\n",
    "                j += int(parameter)\n",
    "\n",
    "        if j >= len(instructions):\n",
    "            return accumulator\n",
    "        else:\n",
    "            op = re.search('[a-z]{3}', instructions[item]).group(0)\n",
    "            parameter = re.search('[\\+|\\-](\\d)*', instructions[item]).group(0)\n",
    "            if op == 'nop':\n",
    "                instructions[item] = 'jmp ' + parameter\n",
    "            elif op == 'jmp':\n",
    "                instructions[item] = 'nop ' + parameter\n",
    "    return False\n",
    "        \n",
    "print(\"The answer for d8p2 is:\", get_accumulator2(instructions))"
   ]
  }
 ],
 "metadata": {
  "kernelspec": {
   "display_name": "Python 3",
   "language": "python",
   "name": "python3"
  },
  "language_info": {
   "codemirror_mode": {
    "name": "ipython",
    "version": 3
   },
   "file_extension": ".py",
   "mimetype": "text/x-python",
   "name": "python",
   "nbconvert_exporter": "python",
   "pygments_lexer": "ipython3",
   "version": "3.8.5"
  }
 },
 "nbformat": 4,
 "nbformat_minor": 4
}
