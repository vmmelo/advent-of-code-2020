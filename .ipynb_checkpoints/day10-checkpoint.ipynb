{
 "cells": [
  {
   "cell_type": "code",
   "execution_count": 1,
   "metadata": {},
   "outputs": [
    {
     "name": "stdout",
     "output_type": "stream",
     "text": [
      "The answer for d10p1 is:  2070\n"
     ]
    }
   ],
   "source": [
    "d10input = open(\"./inputs/day10.txt\", \"r\")\n",
    "numbers = d10input.read().split('\\n')\n",
    "numbers = list(map(int, numbers))\n",
    "numbers.sort()\n",
    "numbers = [0] + numbers + [numbers[len(numbers)-1] + 3]\n",
    "def get_jolt_diffs(numbers):\n",
    "    diffs = {}\n",
    "    for i in range(len(numbers) - 1):\n",
    "        if (numbers[i+1] - numbers[i]) not in diffs:\n",
    "            diffs[numbers[i+1] - numbers[i]] = 1\n",
    "        else:\n",
    "            diffs[numbers[i+1] - numbers[i]] += 1\n",
    "    return diffs\n",
    "diffs = get_jolt_diffs(numbers)\n",
    "print(\"The answer for d10p1 is: \", diffs[1] * diffs[3])"
   ]
  },
  {
   "cell_type": "code",
   "execution_count": 20,
   "metadata": {},
   "outputs": [
    {
     "name": "stdout",
     "output_type": "stream",
     "text": [
      "The answer for d10p2 is:  24179327893504\n"
     ]
    }
   ],
   "source": [
    "def memoize(f):\n",
    "    memo = {}\n",
    "    def helper(x):\n",
    "        if x not in memo:            \n",
    "            memo[x] = f(x)\n",
    "        return memo[x]\n",
    "    return helper\n",
    "\n",
    "@memoize\n",
    "def get_possibilities(i):\n",
    "    result = 0\n",
    "    for n in [1,2,3]:\n",
    "        if ((i+n) in range(len(numbers))) and (numbers[i+n] - numbers[i] <= 3):\n",
    "            result += get_possibilities(i+n)\n",
    "    return result if result > 0 else 1\n",
    "print(\"The answer for d10p2 is: \", get_possibilities(0))"
   ]
  }
 ],
 "metadata": {
  "kernelspec": {
   "display_name": "Python 3",
   "language": "python",
   "name": "python3"
  },
  "language_info": {
   "codemirror_mode": {
    "name": "ipython",
    "version": 3
   },
   "file_extension": ".py",
   "mimetype": "text/x-python",
   "name": "python",
   "nbconvert_exporter": "python",
   "pygments_lexer": "ipython3",
   "version": "3.8.5"
  }
 },
 "nbformat": 4,
 "nbformat_minor": 4
}
