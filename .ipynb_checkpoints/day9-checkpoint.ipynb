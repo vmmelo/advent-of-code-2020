{
 "cells": [
  {
   "cell_type": "code",
   "execution_count": 109,
   "metadata": {},
   "outputs": [
    {
     "name": "stdout",
     "output_type": "stream",
     "text": [
      "The answer for d9p1 is:  31\n"
     ]
    }
   ],
   "source": [
    "d9input = open(\"./inputs/day9.txt\", \"r\")\n",
    "numbers = d9input.read().split('\\n')\n",
    "numbers = list(map(int, numbers))\n",
    "def number_is_valid(num, previous):\n",
    "    for n in previous:\n",
    "        if (num - n) in previous or ((num - n) == (num / 2) and previous.count(num / 2) >= 2):\n",
    "            return True\n",
    "    return False\n",
    "def get_first_invalid(numbers):\n",
    "    for i in range(len(numbers)):\n",
    "        if i <= 4:\n",
    "            continue\n",
    "        if number_is_valid(numbers[i], numbers[i-25:i]):\n",
    "            return numbers[i]\n",
    "    return -1\n",
    "\n",
    "print(\"The answer for d9p1 is: \", get_first_invalid(numbers))"
   ]
  },
  {
   "cell_type": "code",
   "execution_count": 107,
   "metadata": {},
   "outputs": [
    {
     "name": "stdout",
     "output_type": "stream",
     "text": [
      "[20, 15, 25, 47, 40]\n"
     ]
    }
   ],
   "source": [
    "a = [35,20,15,25,47,40, 127]\n",
    "i = 6\n",
    "print(a[i-5:i])\n",
    "# def get_first_invalid(numbers):\n",
    "#     print(numbers)\n",
    "#     for i in range(len(numbers)):\n",
    "#         if i <= 4:\n",
    "#             continue\n",
    "#         print(i)\n",
    "#         print(numbers[(i-5):i])\n",
    "#         if not number_is_valid(numbers[i], numbers[(i-5):i]):\n",
    "#             return numbers[i]\n",
    "#     return -1\n",
    "# get_first_invalid(a)"
   ]
  }
 ],
 "metadata": {
  "kernelspec": {
   "display_name": "Python 3",
   "language": "python",
   "name": "python3"
  },
  "language_info": {
   "codemirror_mode": {
    "name": "ipython",
    "version": 3
   },
   "file_extension": ".py",
   "mimetype": "text/x-python",
   "name": "python",
   "nbconvert_exporter": "python",
   "pygments_lexer": "ipython3",
   "version": "3.8.5"
  }
 },
 "nbformat": 4,
 "nbformat_minor": 4
}
