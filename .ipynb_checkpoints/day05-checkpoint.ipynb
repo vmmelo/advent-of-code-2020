{
 "cells": [
  {
   "cell_type": "code",
   "execution_count": 1,
   "metadata": {},
   "outputs": [
    {
     "name": "stdout",
     "output_type": "stream",
     "text": [
      "The answer for d5p1 is: 861\n"
     ]
    }
   ],
   "source": [
    "import re\n",
    "d6input = open(\"./inputs/day5.txt\", \"r\")\n",
    "seats = d6input.read().split('\\n')\n",
    "\n",
    "# print(\"The answer for d6p1 is:\")"
   ]
  },
  {
   "cell_type": "code",
   "execution_count": 2,
   "metadata": {},
   "outputs": [
    {
     "name": "stdout",
     "output_type": "stream",
     "text": [
      "The answer for d5p2 is: 633\n"
     ]
    }
   ],
   "source": [
    "# print(\"The answer for d6p2 is:\")\n"
   ]
  }
 ],
 "metadata": {
  "kernelspec": {
   "display_name": "Python 3",
   "language": "python",
   "name": "python3"
  },
  "language_info": {
   "codemirror_mode": {
    "name": "ipython",
    "version": 3
   },
   "file_extension": ".py",
   "mimetype": "text/x-python",
   "name": "python",
   "nbconvert_exporter": "python",
   "pygments_lexer": "ipython3",
   "version": "3.8.5"
  }
 },
 "nbformat": 4,
 "nbformat_minor": 4
}
