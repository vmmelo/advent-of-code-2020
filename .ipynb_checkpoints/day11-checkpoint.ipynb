{
 "cells": [
  {
   "cell_type": "code",
   "execution_count": 36,
   "metadata": {},
   "outputs": [
    {
     "name": "stdout",
     "output_type": "stream",
     "text": [
      "The answer for d11p1 is:  2321\n"
     ]
    }
   ],
   "source": [
    "d11input = open(\"./inputs/day11.txt\", \"r\")\n",
    "seats = d11input.read().split('\\n')\n",
    "\n",
    "def get_adjacents(seats, row, col):\n",
    "    adjacents = ''\n",
    "    for r in range(row-1, row+2):\n",
    "        if(r < 0 or r > len(seats) -1):\n",
    "            continue\n",
    "        for c in range(col-1, col+2):\n",
    "            if((r == row and c == col) or (c >= len(seats[r])) or c < 0):\n",
    "                continue\n",
    "            adjacents += seats[r][c]\n",
    "    return list(adjacents)\n",
    "def allocate(seats):\n",
    "    changes = None\n",
    "    while changes == None or changes > 0:\n",
    "        changes = 0\n",
    "        previousSeats = seats[:]\n",
    "        for r in range(len(seats)):\n",
    "            for c in range(len(seats[r])):\n",
    "                rowToList = list(seats[r])\n",
    "                if previousSeats[r][c] == 'L' and get_adjacents(previousSeats, r, c).count('#') == 0:\n",
    "                    rowToList[c] = '#'\n",
    "                    seats[r] = ''.join(rowToList)\n",
    "                    changes += 1\n",
    "                if seats[r][c] == '#' and get_adjacents(previousSeats, r, c).count('#') >=4:\n",
    "                    rowToList[c] = 'L'\n",
    "                    seats[r] = ''.join(rowToList)\n",
    "                    changes += 1\n",
    "    return '\\n'.join(seats)\n",
    "                \n",
    "allocate(seats)\n",
    "\n",
    "print(\"The answer for d11p1 is: \", ''.join(seats).count('#'))"
   ]
  },
  {
   "cell_type": "code",
   "execution_count": null,
   "metadata": {},
   "outputs": [],
   "source": [
    "print(\"The answer for d11p2 is: \")\n",
    "print(''.join(list('L.LL.LL.LL')))"
   ]
  },
  {
   "cell_type": "code",
   "execution_count": null,
   "metadata": {},
   "outputs": [],
   "source": [
    "for i in range(-1,2):\n",
    "    print(i)\n"
   ]
  }
 ],
 "metadata": {
  "kernelspec": {
   "display_name": "Python 3",
   "language": "python",
   "name": "python3"
  },
  "language_info": {
   "codemirror_mode": {
    "name": "ipython",
    "version": 3
   },
   "file_extension": ".py",
   "mimetype": "text/x-python",
   "name": "python",
   "nbconvert_exporter": "python",
   "pygments_lexer": "ipython3",
   "version": "3.8.6"
  }
 },
 "nbformat": 4,
 "nbformat_minor": 4
}
