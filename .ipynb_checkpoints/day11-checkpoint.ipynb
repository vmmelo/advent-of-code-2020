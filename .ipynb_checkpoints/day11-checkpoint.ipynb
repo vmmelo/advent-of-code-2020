{
 "cells": [
  {
   "cell_type": "code",
   "execution_count": 61,
   "metadata": {},
   "outputs": [
    {
     "name": "stdout",
     "output_type": "stream",
     "text": [
      "['L.LL.LL.LL', 'LLLLLLL.LL', 'L.L.L..L..', 'LLLL.LL.LL', 'L.LL.LL.LL', 'L.LLLLL.LL', '..L.L.....', 'LLLLLLLLLL', 'L.LLLLLL.L', 'L.LLLLL.LL']\n",
      "The answer for d11p1 is:  0\n"
     ]
    }
   ],
   "source": [
    "d11input = open(\"./inputs/day11.txt\", \"r\")\n",
    "seats = d11input.read().split('\\n')\n",
    "changedSeats = -1\n",
    "while changedSeats != 0:\n",
    "    previousSeats = seats\n",
    "    print('entrou')\n",
    "    changedSeats = 0\n",
    "    for row in range(len(seats)):\n",
    "        for col in range(len(seats[row])):\n",
    "            if seats[row][col] != '.':\n",
    "                adjacents = ''\n",
    "                for n in range(col - 1, col+1):\n",
    "                    if n >= 0 and n < len(seats[row]):\n",
    "                        if row - 1 >= 0:\n",
    "                            adjacents += seats[row-1][n]\n",
    "                        if row + 1 < len(seats)-1:\n",
    "                            adjacents += seats[row+1][n]\n",
    "                if(col != 0):\n",
    "                    adjacents += seats[row][col - 1]\n",
    "                if(col < len(seats[row]) - 1):\n",
    "                    adjacents += seats[row][col + 1]\n",
    "            rowToList = list(previousSeats[row])\n",
    "            if seats[row][col] == 'L' and adjacents.count('#') == 0:\n",
    "                rowToList[col] = '#'\n",
    "                previousSeats[row] = ''.join(rowToList)\n",
    "                changedSeats += 1\n",
    "            if seats[row][col] == '#' and adjacents.count('#') >= 4:\n",
    "                rowToList[col] = 'L'\n",
    "                previousSeats[row] = ''.join(rowToList)\n",
    "                changedSeats += 1\n",
    "    seats = previousSeats \n",
    "    print('\\n'.join(seats))\n",
    "    print('\\n')\n",
    "    print('\\n'.join(previousSeats))\n",
    "    print('---------------')\n",
    "\n",
    "print(\"The answer for d11p1 is: \", ''.join(seats).count('#'))"
   ]
  },
  {
   "cell_type": "code",
   "execution_count": 34,
   "metadata": {},
   "outputs": [
    {
     "name": "stdout",
     "output_type": "stream",
     "text": [
      "The answer for d11p2 is: \n",
      "L.LL.LL.LL\n"
     ]
    }
   ],
   "source": [
    "print(\"The answer for d11p2 is: \")\n",
    "print(''.join(list('L.LL.LL.LL')))"
   ]
  }
 ],
 "metadata": {
  "kernelspec": {
   "display_name": "Python 3",
   "language": "python",
   "name": "python3"
  },
  "language_info": {
   "codemirror_mode": {
    "name": "ipython",
    "version": 3
   },
   "file_extension": ".py",
   "mimetype": "text/x-python",
   "name": "python",
   "nbconvert_exporter": "python",
   "pygments_lexer": "ipython3",
   "version": "3.8.5"
  }
 },
 "nbformat": 4,
 "nbformat_minor": 4
}
