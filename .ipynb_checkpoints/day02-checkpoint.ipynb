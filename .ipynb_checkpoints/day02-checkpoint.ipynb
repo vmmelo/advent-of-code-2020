{
 "cells": [
  {
   "cell_type": "code",
   "execution_count": 1,
   "metadata": {},
   "outputs": [
    {
     "name": "stdout",
     "output_type": "stream",
     "text": [
      "The answer for d2p1 is: 467\n",
      "The answer for d2p2 is: 441\n"
     ]
    }
   ],
   "source": [
    "d2input = open(\"./inputs/day2.txt\", \"r\")\n",
    "passwords = d2input.read().split('\\n')\n",
    "import re\n",
    "\n",
    "def first_part_conditions(line):\n",
    "    rangeInterval = re.findall('\\d+-\\d+', line )[0]\n",
    "    indexSeparator = rangeInterval.find('-')\n",
    "    minOccurrences = int(rangeInterval[:indexSeparator])\n",
    "    maxOccurrences = int(rangeInterval[indexSeparator + 1:len(rangeInterval)])\n",
    "    character = re.findall('\\S:', line )[0][0]\n",
    "    password = re.findall(': \\S+', line )[0]\n",
    "    password = password[2:len(password)]\n",
    "    return 1 if password.count(character) >= minOccurrences and password.count(character) <= maxOccurrences else 0\n",
    "\n",
    "first_part = [first_part_conditions(line) for line in passwords]\n",
    "print(\"The answer for d2p1 is:\", sum(first_part))\n",
    "\n",
    "def second_part_conditions(line):\n",
    "    rangeInterval = re.findall('\\d+-\\d+', line )[0]\n",
    "    indexSeparator = rangeInterval.find('-')\n",
    "    firstPosition = int(rangeInterval[:indexSeparator])\n",
    "    secondPosition = int(rangeInterval[indexSeparator + 1:len(rangeInterval)])\n",
    "    character = re.findall('\\S:', line )[0][0]\n",
    "    password = re.findall(': \\S+', line )[0]\n",
    "    password = password[2:len(password)]\n",
    "    positionContainsLetter = 0\n",
    "    if password[firstPosition - 1] == character:\n",
    "        positionContainsLetter += 1\n",
    "    if password[secondPosition - 1] == character:\n",
    "        positionContainsLetter += 1\n",
    "    return 1 if positionContainsLetter == 1 else 0\n",
    "\n",
    "second_part = [second_part_conditions(line) for line in passwords]\n",
    "sum(second_part)\n",
    "print(\"The answer for d2p2 is:\", sum(second_part))"
   ]
  }
 ],
 "metadata": {
  "kernelspec": {
   "display_name": "Python 3",
   "language": "python",
   "name": "python3"
  },
  "language_info": {
   "codemirror_mode": {
    "name": "ipython",
    "version": 3
   },
   "file_extension": ".py",
   "mimetype": "text/x-python",
   "name": "python",
   "nbconvert_exporter": "python",
   "pygments_lexer": "ipython3",
   "version": "3.8.5"
  }
 },
 "nbformat": 4,
 "nbformat_minor": 4
}
