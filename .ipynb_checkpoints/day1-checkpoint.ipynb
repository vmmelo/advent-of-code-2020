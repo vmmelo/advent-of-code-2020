{
 "cells": [
  {
   "cell_type": "code",
   "execution_count": 1,
   "metadata": {},
   "outputs": [
    {
     "name": "stdout",
     "output_type": "stream",
     "text": [
      "The answer for d1p1 is: 1020036\n",
      "The answer for d1p2 is: 286977330\n"
     ]
    }
   ],
   "source": [
    "d1input = open(\"./inputs/day1.txt\", \"r\")\n",
    "numbers = d1input.read().split('\\n')\n",
    "numbers = list(map(int, numbers))\n",
    "\n",
    "#Find the two entries that sum to 2020; what do you get if you multiply them together?\n",
    "def first_part(numbers, targetSum=2020, ignoreNumber=False):\n",
    "    occurrences = {}\n",
    "    for num  in numbers:\n",
    "        if(num) not in occurrences:\n",
    "            occurrences[num] = 1\n",
    "            if(ignoreNumber == num):\n",
    "                occurrences[num] -= 1\n",
    "        else:\n",
    "            occurrences[num] += 1\n",
    "\n",
    "        if(targetSum - num) in numbers:\n",
    "            if(targetSum - num != num or occurrences[num] >= 2):\n",
    "                return num * (targetSum - num)\n",
    "\n",
    "    return -1\n",
    "\n",
    "#What is the product of the three entries that sum to 2020?\n",
    "def second_part(numbers, targetSum=2020):\n",
    "    occurrences = {}\n",
    "\n",
    "    for num  in numbers:\n",
    "        if(num) not in occurrences:\n",
    "            occurrences[num] = 1\n",
    "        else:\n",
    "            occurrences[num] += 1\n",
    "        resultFirstPart = first_part(numbers, 2020 - num , num)\n",
    "        if(resultFirstPart != -1):\n",
    "            return num * resultFirstPart\n",
    "\n",
    "    return -1\n",
    "print(\"The answer for d1p1 is:\", first_part(numbers, 2020))\n",
    "print(\"The answer for d1p2 is:\", second_part(numbers, 2020))"
   ]
  }
 ],
 "metadata": {
  "kernelspec": {
   "display_name": "Python 3",
   "language": "python",
   "name": "python3"
  },
  "language_info": {
   "codemirror_mode": {
    "name": "ipython",
    "version": 3
   },
   "file_extension": ".py",
   "mimetype": "text/x-python",
   "name": "python",
   "nbconvert_exporter": "python",
   "pygments_lexer": "ipython3",
   "version": "3.8.5"
  }
 },
 "nbformat": 4,
 "nbformat_minor": 4
}
