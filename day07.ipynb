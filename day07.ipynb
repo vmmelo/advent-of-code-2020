{
 "cells": [
  {
   "cell_type": "code",
   "execution_count": 108,
   "metadata": {},
   "outputs": [
    {
     "name": "stdout",
     "output_type": "stream",
     "text": [
      "The answer for d7p1 is: 302\n"
     ]
    }
   ],
   "source": [
    "import re\n",
    "d7input = open(\"./inputs/day7.txt\", \"r\")\n",
    "lines = d7input.read().split('\\n')\n",
    "rules = {}\n",
    "for line in lines:\n",
    "    line = line.replace('bags', 'bag')\n",
    "    split = line.split(' contain ')\n",
    "    parent = split[0]\n",
    "    childrenText = split[1].replace('.', '')\n",
    "    childrenDict = {}\n",
    "    if(re.search('no other bag', childrenText) == None):\n",
    "        for child in (childrenText.split(', ')):\n",
    "            quantity = int(child[0:2])\n",
    "            childrenDict[child[2:len(child)]] = quantity\n",
    "    rules[parent] = childrenDict\n",
    "\n",
    "def color_can_hold(rules, parent, bagColor='shiny gold bag'):\n",
    "    canHold = False\n",
    "    for child in rules[parent]:\n",
    "        if(child == bagColor):\n",
    "            canHold = True\n",
    "        else:\n",
    "            canHold = how_many_can_hold(rules, child, bagColor)\n",
    "    return canHold\n",
    "def get_count(rules):\n",
    "    listRulesCanHold = []\n",
    "    for rule in rules:\n",
    "        if(how_many_can_hold(rules, rule)):\n",
    "            listRulesCanHold.append(rule)\n",
    "    return len(listRulesCanHold)\n",
    "        \n",
    "print(\"The answer for d7p1 is:\", get_total(rules))"
   ]
  },
  {
   "cell_type": "code",
   "execution_count": 107,
   "metadata": {},
   "outputs": [
    {
     "name": "stdout",
     "output_type": "stream",
     "text": [
      "The answer for d7p2 is: 4165\n"
     ]
    }
   ],
   "source": [
    "def bags_parent_can_hold(rules, parent):\n",
    "    total = 0\n",
    "    for child in rules[parent]:\n",
    "        total += rules[parent][child] + (rules[parent][child] * bags_parent_can_hold(rules, child))\n",
    "    return total\n",
    "print(\"The answer for d7p2 is:\", bags_parent_can_hold(rules, 'shiny gold bag'))"
   ]
  }
 ],
 "metadata": {
  "kernelspec": {
   "display_name": "Python 3",
   "language": "python",
   "name": "python3"
  },
  "language_info": {
   "codemirror_mode": {
    "name": "ipython",
    "version": 3
   },
   "file_extension": ".py",
   "mimetype": "text/x-python",
   "name": "python",
   "nbconvert_exporter": "python",
   "pygments_lexer": "ipython3",
   "version": "3.8.5"
  }
 },
 "nbformat": 4,
 "nbformat_minor": 4
}
