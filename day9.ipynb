{
 "cells": [
  {
   "cell_type": "code",
   "execution_count": 1,
   "metadata": {},
   "outputs": [
    {
     "name": "stdout",
     "output_type": "stream",
     "text": [
      "The answer for d9p1 is:  21806024\n"
     ]
    }
   ],
   "source": [
    "d9input = open(\"./inputs/day9.txt\", \"r\")\n",
    "numbers = d9input.read().split('\\n')\n",
    "numbers = list(map(int, numbers))\n",
    "def number_is_valid(num, previous):\n",
    "    for n in previous:\n",
    "        if (num - n) in previous or ((num - n) == (num / 2) and previous.count(num / 2) >= 2):\n",
    "            return True\n",
    "    return False\n",
    "def get_first_invalid(numbers):\n",
    "    for i in range(len(numbers)):\n",
    "        if i <= 24:\n",
    "            continue\n",
    "        if not number_is_valid(numbers[i], numbers[i-25:i]):\n",
    "            return numbers[i]\n",
    "    return -1\n",
    "\n",
    "print(\"The answer for d9p1 is: \", get_first_invalid(numbers))"
   ]
  },
  {
   "cell_type": "code",
   "execution_count": null,
   "metadata": {},
   "outputs": [],
   "source": []
  }
 ],
 "metadata": {
  "kernelspec": {
   "display_name": "Python 3",
   "language": "python",
   "name": "python3"
  },
  "language_info": {
   "codemirror_mode": {
    "name": "ipython",
    "version": 3
   },
   "file_extension": ".py",
   "mimetype": "text/x-python",
   "name": "python",
   "nbconvert_exporter": "python",
   "pygments_lexer": "ipython3",
   "version": "3.8.5"
  }
 },
 "nbformat": 4,
 "nbformat_minor": 4
}
