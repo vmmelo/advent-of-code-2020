{
 "cells": [
  {
   "cell_type": "code",
   "execution_count": 1,
   "metadata": {},
   "outputs": [
    {
     "name": "stdout",
     "output_type": "stream",
     "text": [
      "The answer for d9p1 is:  21806024\n"
     ]
    }
   ],
   "source": [
    "d9input = open(\"./inputs/day9.txt\", \"r\")\n",
    "numbers = d9input.read().split('\\n')\n",
    "numbers = list(map(int, numbers))\n",
    "def number_is_valid(num, previous):\n",
    "    for n in previous:\n",
    "        if (num - n) in previous or ((num - n) == (num / 2) and previous.count(num / 2) >= 2):\n",
    "            return True\n",
    "    return False\n",
    "\n",
    "def get_first_invalid(numbers, preambleLength=5):\n",
    "    for i in range(len(numbers) - preambleLength):\n",
    "        if i < preambleLength:\n",
    "            continue\n",
    "        if not number_is_valid(numbers[i], numbers[i-preambleLength:i]):\n",
    "            return numbers[i]\n",
    "    return -1\n",
    "\n",
    "print(\"The answer for d9p1 is: \", get_first_invalid(numbers, 25))"
   ]
  },
  {
   "cell_type": "code",
   "execution_count": 2,
   "metadata": {},
   "outputs": [
    {
     "name": "stdout",
     "output_type": "stream",
     "text": [
      "The answer for d9p2 is:  2986195\n"
     ]
    }
   ],
   "source": [
    "def get_encryption_weakness(numbers, preambleLength=5):\n",
    "    for i in range(len(numbers) - preambleLength):\n",
    "        if i < preambleLength:\n",
    "            continue\n",
    "        if not number_is_valid(numbers[i], numbers[i-preambleLength:i]):\n",
    "            for j in range(2, i+1):\n",
    "                for k in range(i - j):\n",
    "                    if sum(numbers[k:k+j]) == numbers[i]:\n",
    "                        weak = min(numbers[k:k+j]) + max(numbers[k:k+j])\n",
    "                        return weak\n",
    "    return -1\n",
    "print(\"The answer for d9p2 is: \", get_encryption_weakness(numbers, 25))"
   ]
  }
 ],
 "metadata": {
  "kernelspec": {
   "display_name": "Python 3",
   "language": "python",
   "name": "python3"
  },
  "language_info": {
   "codemirror_mode": {
    "name": "ipython",
    "version": 3
   },
   "file_extension": ".py",
   "mimetype": "text/x-python",
   "name": "python",
   "nbconvert_exporter": "python",
   "pygments_lexer": "ipython3",
   "version": "3.8.5"
  }
 },
 "nbformat": 4,
 "nbformat_minor": 4
}
