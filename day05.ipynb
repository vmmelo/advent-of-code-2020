{
 "cells": [
  {
   "cell_type": "code",
   "execution_count": 1,
   "metadata": {},
   "outputs": [
    {
     "name": "stdout",
     "output_type": "stream",
     "text": [
      "The answer for dp1 is: 861\n"
     ]
    }
   ],
   "source": [
    "d5input = open(\"./inputs/day5.txt\", \"r\")\n",
    "seats = d5input.read().split('\\n')\n",
    "def get_row_col_num(numbers, letters, lowerLetter):\n",
    "    if len(letters) == 1:\n",
    "        if letters == lowerLetter:\n",
    "            return numbers[0]\n",
    "        else:\n",
    "            return numbers[1]\n",
    "    else:\n",
    "        if letters[0] == lowerLetter:\n",
    "            return get_row_col_num(numbers[0:int(len(numbers)/2)], letters[1:len(letters)], lowerLetter)\n",
    "        else:\n",
    "            return get_row_col_num(numbers[int(len(numbers)/2):len(numbers)], letters[1:len(letters)], lowerLetter)\n",
    "\n",
    "def get_seat_id(row, col):\n",
    "    return row * 8 + col\n",
    "\n",
    "def list_seat_ids(seats):\n",
    "    ids = []\n",
    "    for seat in seats:\n",
    "        row = get_row_col_num(list(range(0, 128)), seat[0:7], 'F')\n",
    "        col = get_row_col_num(list(range(0, 8)), seat[7:10], 'L')\n",
    "        ids.append(get_seat_id(row, col))\n",
    "    return ids\n",
    "print(\"The answer for dp1 is:\", max(list_seat_ids(seats)))"
   ]
  },
  {
   "cell_type": "code",
   "execution_count": 2,
   "metadata": {},
   "outputs": [
    {
     "name": "stdout",
     "output_type": "stream",
     "text": [
      "The answer for d5p2 is: 633\n"
     ]
    }
   ],
   "source": [
    "def my_seat_id(ids):\n",
    "    minId = min(ids)\n",
    "    maxId = max(ids)\n",
    "    for seatId in list(range(minId, maxId + 1)):\n",
    "        if seatId not in ids:\n",
    "            return seatId\n",
    "print(\"The answer for d5p2 is:\", my_seat_id(list_seat_ids(seats)))\n"
   ]
  }
 ],
 "metadata": {
  "kernelspec": {
   "display_name": "Python 3",
   "language": "python",
   "name": "python3"
  },
  "language_info": {
   "codemirror_mode": {
    "name": "ipython",
    "version": 3
   },
   "file_extension": ".py",
   "mimetype": "text/x-python",
   "name": "python",
   "nbconvert_exporter": "python",
   "pygments_lexer": "ipython3",
   "version": "3.8.5"
  }
 },
 "nbformat": 4,
 "nbformat_minor": 4
}
