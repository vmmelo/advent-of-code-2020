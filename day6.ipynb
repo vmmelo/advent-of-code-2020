{
 "cells": [
  {
   "cell_type": "code",
   "execution_count": 1,
   "metadata": {},
   "outputs": [
    {
     "name": "stdout",
     "output_type": "stream",
     "text": [
      "The answer for d6p1 is: 6809\n"
     ]
    }
   ],
   "source": [
    "d6input = open(\"./inputs/day6.txt\", \"r\")\n",
    "groups = d6input.read().split('\\n\\n')\n",
    "\n",
    "def sum_count_groups(groups):\n",
    "    sum = 0\n",
    "    for group in groups:\n",
    "        groupAnswers = []\n",
    "        for letter in group.replace('\\n', ''):\n",
    "            groupAnswers.append(letter)\n",
    "        sum += len(set(groupAnswers))\n",
    "    return sum\n",
    "\n",
    "print(\"The answer for d6p1 is:\", sum_count_groups(groups))"
   ]
  },
  {
   "cell_type": "code",
   "execution_count": 2,
   "metadata": {},
   "outputs": [
    {
     "name": "stdout",
     "output_type": "stream",
     "text": [
      "The answer for d6p2 is: 3394\n"
     ]
    }
   ],
   "source": [
    "def sum_everyone_yes(groups):\n",
    "    sum = 0\n",
    "    for group in groups:\n",
    "        participants = group.split('\\n')\n",
    "        if(len(participants) == 1):\n",
    "            sum += len(participants[0])\n",
    "        else:\n",
    "            commonAnswers = participants[0]\n",
    "            for participant in participants:\n",
    "                commonAnswers = \"\".join(set(commonAnswers).intersection(participant))\n",
    "            sum += len(commonAnswers)\n",
    "    return sum\n",
    "print(\"The answer for d6p2 is:\", sum_everyone_yes(groups))"
   ]
  }
 ],
 "metadata": {
  "kernelspec": {
   "display_name": "Python 3",
   "language": "python",
   "name": "python3"
  },
  "language_info": {
   "codemirror_mode": {
    "name": "ipython",
    "version": 3
   },
   "file_extension": ".py",
   "mimetype": "text/x-python",
   "name": "python",
   "nbconvert_exporter": "python",
   "pygments_lexer": "ipython3",
   "version": "3.8.5"
  }
 },
 "nbformat": 4,
 "nbformat_minor": 4
}
