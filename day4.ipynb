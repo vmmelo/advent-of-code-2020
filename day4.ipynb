{
 "cells": [
  {
   "cell_type": "code",
   "execution_count": 1,
   "metadata": {},
   "outputs": [
    {
     "name": "stdout",
     "output_type": "stream",
     "text": [
      "The answer for d4p1 is: 233\n"
     ]
    }
   ],
   "source": [
    "import re\n",
    "d4input = open(\"./inputs/day4.txt\", \"r\")\n",
    "passports = d4input.read().split('\\n\\n')\n",
    "requiredFields = ['byr', 'iyr', 'eyr', 'hgt', 'hcl', 'ecl', 'pid']\n",
    "def first_valid_passport(passport, requiredFields):\n",
    "    for field in requiredFields:\n",
    "        if(len(re.findall((field + ':\\S+'), passport )) == 0):\n",
    "            return 0\n",
    "    return 1\n",
    "first_part = sum([first_valid_passport(line, requiredFields) for line in passports])\n",
    "print(\"The answer for d4p1 is:\", first_part)\n"
   ]
  },
  {
   "cell_type": "code",
   "execution_count": 2,
   "metadata": {},
   "outputs": [
    {
     "name": "stdout",
     "output_type": "stream",
     "text": [
      "The answer for d4p2 is: 111\n"
     ]
    }
   ],
   "source": [
    "def validate_year(year, minYear, maxYear):\n",
    "    return int(year) >= minYear and int(year) <= maxYear\n",
    "\n",
    "def validate_hgt(value):\n",
    "    num = re.findall('\\d+',value)[0]\n",
    "    if value.endswith('cm'):\n",
    "        return int(num) >= 150 and int(num) <= 193\n",
    "    elif value.endswith('in'):\n",
    "        return int(num) >= 59 and int(num) <= 76\n",
    "    else:\n",
    "        return False\n",
    "    \n",
    "def validate_hcl(value):\n",
    "    return len(value) == 7 and re.search('#(\\d|[a-f]){6}', value) != None\n",
    "\n",
    "def validate_ecl(value):\n",
    "    eclTypes = ['amb', 'blu', 'brn', 'gry', 'grn', 'hzl', 'oth']\n",
    "    return value in eclTypes\n",
    "\n",
    "def validate_pid(value):\n",
    "    return len(value) == 9 and re.search('(\\d){9}', value) != None\n",
    "\n",
    "def second_valid_passport(passport, requiredFields):\n",
    "    for field in requiredFields:\n",
    "        if(len(re.findall((field + ':\\S+'), passport )) == 0):\n",
    "            return 0\n",
    "        \n",
    "        #validate values\n",
    "        value = re.findall((field + ':\\S+'), passport )[0]\n",
    "        value = value[value.index(\":\") + 1 : len(value)]\n",
    "        if(field == 'byr') and not validate_year(value, 1920, 2002):\n",
    "            return 0\n",
    "        elif(field == 'iyr') and not validate_year(value, 2010, 2020):\n",
    "            return 0\n",
    "        elif(field == 'eyr') and not validate_year(value, 2020, 2030):\n",
    "            return 0\n",
    "        elif(field == 'hgt') and not validate_hgt(value):\n",
    "            return 0\n",
    "        elif(field == 'hcl') and not validate_hcl(value):\n",
    "            return 0\n",
    "        elif(field == 'ecl') and not validate_ecl(value):\n",
    "            return 0\n",
    "        elif(field == 'pid') and not validate_pid(value):\n",
    "            return 0\n",
    "    return 1\n",
    "\n",
    "second_part = sum([second_valid_passport(line, requiredFields) for line in passports])\n",
    "print(\"The answer for d4p2 is:\", second_part)"
   ]
  }
 ],
 "metadata": {
  "kernelspec": {
   "display_name": "Python 3",
   "language": "python",
   "name": "python3"
  },
  "language_info": {
   "codemirror_mode": {
    "name": "ipython",
    "version": 3
   },
   "file_extension": ".py",
   "mimetype": "text/x-python",
   "name": "python",
   "nbconvert_exporter": "python",
   "pygments_lexer": "ipython3",
   "version": "3.8.5"
  }
 },
 "nbformat": 4,
 "nbformat_minor": 4
}
