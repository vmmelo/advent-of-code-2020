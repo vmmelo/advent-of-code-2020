{
 "cells": [
  {
   "cell_type": "code",
   "execution_count": 3,
   "metadata": {},
   "outputs": [
    {
     "name": "stdout",
     "output_type": "stream",
     "text": [
      "The answer for d11p1 is:  2321\n"
     ]
    }
   ],
   "source": [
    "d11input = open(\"./inputs/day11.txt\", \"r\")\n",
    "seats = d11input.read().split('\\n')\n",
    "\n",
    "def get_adjacents(seats, row, col):\n",
    "    adjacents = ''\n",
    "    for r in range(row-1, row+2):\n",
    "        if(r < 0 or r > len(seats) -1):\n",
    "            continue\n",
    "        for c in range(col-1, col+2):\n",
    "            if((r == row and c == col) or (c >= len(seats[r])) or c < 0):\n",
    "                continue\n",
    "            adjacents += seats[r][c]\n",
    "    return list(adjacents)\n",
    "def allocate(seats):\n",
    "    changes = None\n",
    "    while changes == None or changes > 0:\n",
    "        changes = 0\n",
    "        previousSeats = seats[:]\n",
    "        for r in range(len(seats)):\n",
    "            for c in range(len(seats[r])):\n",
    "                rowToList = list(seats[r])\n",
    "                if previousSeats[r][c] == 'L' and get_adjacents(previousSeats, r, c).count('#') == 0:\n",
    "                    rowToList[c] = '#'\n",
    "                    seats[r] = ''.join(rowToList)\n",
    "                    changes += 1\n",
    "                if seats[r][c] == '#' and get_adjacents(previousSeats, r, c).count('#') >=4:\n",
    "                    rowToList[c] = 'L'\n",
    "                    seats[r] = ''.join(rowToList)\n",
    "                    changes += 1\n",
    "    return '\\n'.join(seats)\n",
    "print(\"The answer for d11p1 is: \", ''.join(allocate(seats)).count('#'))"
   ]
  },
  {
   "cell_type": "code",
   "execution_count": 4,
   "metadata": {},
   "outputs": [
    {
     "name": "stdout",
     "output_type": "stream",
     "text": [
      "The answer for d11p2 is:  2102\n"
     ]
    }
   ],
   "source": [
    "d11input = open(\"./inputs/day11.txt\", \"r\")\n",
    "seats = d11input.read().split('\\n')\n",
    "directions = [\n",
    "        {\"r\": 0, \"c\": -1}, #left\n",
    "        {\"r\": 0, \"c\": 1}, #right\n",
    "        {\"r\": -1, \"c\": 0}, #top\n",
    "        {\"r\": 1, \"c\": 0}, #bottom\n",
    "        {\"r\": -1, \"c\": -1}, #top-left\n",
    "        {\"r\": -1, \"c\": 1}, #top-right\n",
    "        {\"r\": 1, \"c\": -1}, #bottom-left\n",
    "        {\"r\": 1, \"c\": 1}, #bottom-right\n",
    "    ]\n",
    "def get_adjacents_part2(seats, row, col):\n",
    "    adjacents = ''\n",
    "    for d in range(len(directions)):\n",
    "        multiplier = 1\n",
    "        while (\n",
    "                  (row + directions[d][\"r\"] * multiplier >= 0) \n",
    "                  and (row + directions[d][\"r\"] * multiplier < len(seats))\n",
    "                  and (col + directions[d][\"c\"] * multiplier < len(seats[0]))\n",
    "                  and (col + directions[d][\"c\"] * multiplier >= 0)\n",
    "              ):\n",
    "            position = seats[row + directions[d][\"r\"] * multiplier][col + directions[d][\"c\"] * multiplier]\n",
    "            if(position != '.'):\n",
    "                adjacents += position\n",
    "                break\n",
    "            multiplier += 1\n",
    "    return list(adjacents)\n",
    "def allocate_part2(seats):\n",
    "    changes = None\n",
    "    while changes == None or changes > 0:\n",
    "        changes = 0\n",
    "        previousSeats = seats[:]\n",
    "        for r in range(len(seats)):\n",
    "            for c in range(len(seats[r])):\n",
    "                rowToList = list(seats[r])\n",
    "                if previousSeats[r][c] == 'L' and get_adjacents_part2(previousSeats, r, c).count('#') == 0:\n",
    "                    rowToList[c] = '#'\n",
    "                    seats[r] = ''.join(rowToList)\n",
    "                    changes += 1\n",
    "                if seats[r][c] == '#' and get_adjacents_part2(previousSeats, r, c).count('#') >=5:\n",
    "                    rowToList[c] = 'L'\n",
    "                    seats[r] = ''.join(rowToList)\n",
    "                    changes += 1\n",
    "    return '\\n'.join(seats)\n",
    "\n",
    "print(\"The answer for d11p2 is: \", ''.join(allocate_part2(seats)).count('#'))"
   ]
  }
 ],
 "metadata": {
  "kernelspec": {
   "display_name": "Python 3",
   "language": "python",
   "name": "python3"
  },
  "language_info": {
   "codemirror_mode": {
    "name": "ipython",
    "version": 3
   },
   "file_extension": ".py",
   "mimetype": "text/x-python",
   "name": "python",
   "nbconvert_exporter": "python",
   "pygments_lexer": "ipython3",
   "version": "3.8.6"
  }
 },
 "nbformat": 4,
 "nbformat_minor": 4
}
